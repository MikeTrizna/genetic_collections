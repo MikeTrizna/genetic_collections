{
 "cells": [
  {
   "cell_type": "code",
   "execution_count": 1,
   "metadata": {
    "collapsed": true
   },
   "outputs": [],
   "source": [
    "import genetic_collections as gc"
   ]
  },
  {
   "cell_type": "code",
   "execution_count": 2,
   "metadata": {},
   "outputs": [
    {
     "name": "stdout",
     "output_type": "stream",
     "text": [
      "6 matching results found.\n",
      "Fetching biocollection entries.\n"
     ]
    },
    {
     "data": {
      "text/plain": [
       "[{'Collection Type': 'museum',\n",
       "  'Country': 'USA',\n",
       "  'Institution Code': 'USNM',\n",
       "  'Institution Name': 'National Museum of Natural History, Smithsonian Institution',\n",
       "  'NCBI Link': 'https://www.ncbi.nlm.nih.gov/biocollections/53',\n",
       "  'gb_count': 20722},\n",
       " {'Collection Type': 'herbarium',\n",
       "  'Country': 'USA',\n",
       "  'Institution Code': 'US',\n",
       "  'Institution Name': 'Smithsonian Institution, Department of Botany',\n",
       "  'NCBI Link': 'https://www.ncbi.nlm.nih.gov/biocollections/7399',\n",
       "  'gb_count': 5692},\n",
       " {'Collection Type': 'herbarium',\n",
       "  'Country': 'Panama',\n",
       "  'Institution Code': 'STRI',\n",
       "  'Institution Name': 'Smithsonian Tropical Research Institute',\n",
       "  'NCBI Link': 'https://www.ncbi.nlm.nih.gov/biocollections/6934',\n",
       "  'gb_count': 2803},\n",
       " {'Collection Type': 'herbarium',\n",
       "  'Country': 'Panama',\n",
       "  'Institution Code': 'SCZ',\n",
       "  'Institution Name': 'Smithsonian Tropical Research Institute',\n",
       "  'NCBI Link': 'https://www.ncbi.nlm.nih.gov/biocollections/5878',\n",
       "  'gb_count': 17},\n",
       " {'Collection Type': 'museum',\n",
       "  'Country': 'USA',\n",
       "  'Institution Code': 'SERC',\n",
       "  'Institution Name': 'Smithsonian Environmental Research Center',\n",
       "  'NCBI Link': 'https://www.ncbi.nlm.nih.gov/biocollections/7631',\n",
       "  'gb_count': 0},\n",
       " {'Collection Type': 'herbarium',\n",
       "  'Country': 'U.S.A.',\n",
       "  'Institution Code': 'USNC',\n",
       "  'Institution Name': 'Smithsonian Institution, Paleobiology Department',\n",
       "  'NCBI Link': 'https://www.ncbi.nlm.nih.gov/biocollections/5877',\n",
       "  'gb_count': 0}]"
      ]
     },
     "execution_count": 2,
     "metadata": {},
     "output_type": "execute_result"
    }
   ],
   "source": [
    "results = gc.ncbi_inst_search('Smithsonian')\n",
    "results"
   ]
  },
  {
   "cell_type": "code",
   "execution_count": 3,
   "metadata": {},
   "outputs": [
    {
     "name": "stdout",
     "output_type": "stream",
     "text": [
      "9278 matching GenBank ids saved in usnm_aves_list.txt\n"
     ]
    }
   ],
   "source": [
    "id_list_filename = 'usnm_aves_list.txt'\n",
    "gc.gb_search(inst_code = 'USNM', taxon='Aves', \n",
    "             format='id_list', id_list_file=id_list_filename)"
   ]
  },
  {
   "cell_type": "code",
   "execution_count": 4,
   "metadata": {},
   "outputs": [
    {
     "name": "stdout",
     "output_type": "stream",
     "text": [
      "['1247278339', '1247278337', '1247278335', '1247278333', '1247278332', '1247278331', '1240953474', '1240953457', '1240953437', '1240953435']\n"
     ]
    }
   ],
   "source": [
    "id_list = []\n",
    "with open(id_list_filename,'r') as infile:\n",
    "    for row in infile:\n",
    "        id_list.append(row.strip())\n",
    "print(id_list[:10])"
   ]
  },
  {
   "cell_type": "code",
   "execution_count": 5,
   "metadata": {},
   "outputs": [
    {
     "name": "stdout",
     "output_type": "stream",
     "text": [
      "9278\n"
     ]
    }
   ],
   "source": [
    "gb_results = gc.gb_fetch_from_id_list(id_list)\n",
    "print(len(gb_results))"
   ]
  },
  {
   "cell_type": "code",
   "execution_count": 6,
   "metadata": {
    "collapsed": true
   },
   "outputs": [],
   "source": [
    "import pandas as pd"
   ]
  },
  {
   "cell_type": "code",
   "execution_count": 7,
   "metadata": {},
   "outputs": [
    {
     "name": "stdout",
     "output_type": "stream",
     "text": [
      "   accession               scientific_name specimen_voucher\n",
      "0   KY039097  Iole viridescens cacharensis      USNM:541241\n",
      "1   KY039096  Iole viridescens cacharensis      USNM:541240\n",
      "2   KY039095  Iole viridescens cacharensis      USNM:541241\n",
      "3   KY039094  Iole viridescens cacharensis      USNM:541240\n",
      "4   KY039093  Iole viridescens cacharensis      USNM:541241\n",
      "5   KY039092  Iole viridescens cacharensis      USNM:541240\n",
      "6   KY448753              Elaenia frantzii       USNM:B5469\n",
      "7   KY448736             Elaenia martinica       USNM:B2116\n",
      "8   KY448716              Elaenia frantzii       USNM:B5469\n",
      "9   KY448714             Elaenia martinica       USNM:B2116\n",
      "10  KY448684             Elaenia martinica       USNM:B2116\n",
      "11  KY448654              Elaenia frantzii       USNM:B5469\n",
      "12  KY448617              Elaenia frantzii       USNM:B5469\n",
      "13  KY448614             Elaenia martinica       USNM:B2116\n",
      "14  KY448583              Elaenia frantzii       USNM:B5469\n",
      "15  KY448571             Elaenia martinica       USNM:B2116\n",
      "16  KY448546             Elaenia martinica       USNM:B2116\n",
      "17  KY448516              Elaenia frantzii       USNM:B5469\n",
      "18  KY448490             Elaenia martinica       USNM:B2116\n",
      "19  KY448479              Elaenia frantzii       USNM:B5469\n"
     ]
    }
   ],
   "source": [
    "gb_df = pd.DataFrame(gb_results)\n",
    "print(gb_df[['accession','scientific_name','specimen_voucher']].head(20))"
   ]
  },
  {
   "cell_type": "code",
   "execution_count": 8,
   "metadata": {},
   "outputs": [
    {
     "name": "stdout",
     "output_type": "stream",
     "text": [
      "<class 'pandas.core.frame.DataFrame'>\n",
      "RangeIndex: 9278 entries, 0 to 9277\n",
      "Data columns (total 21 columns):\n",
      "PCR_primers         2995 non-null object\n",
      "accession           9278 non-null object\n",
      "bioproject          7256 non-null object\n",
      "biosample           1 non-null object\n",
      "bold_id             2750 non-null object\n",
      "collected_by        443 non-null object\n",
      "collection_date     2954 non-null object\n",
      "country             3178 non-null object\n",
      "identified_by       94 non-null object\n",
      "keyword             9278 non-null object\n",
      "lat_lon             2109 non-null object\n",
      "publish_date        9278 non-null object\n",
      "scientific_name     9278 non-null object\n",
      "seq_len             9278 non-null object\n",
      "specimen_voucher    9278 non-null object\n",
      "sra                 1 non-null object\n",
      "submit_authors      9266 non-null object\n",
      "submit_date         9278 non-null object\n",
      "submit_inst         9278 non-null object\n",
      "taxid               9278 non-null object\n",
      "update_date         9278 non-null object\n",
      "dtypes: object(21)\n",
      "memory usage: 1.5+ MB\n",
      "None\n"
     ]
    }
   ],
   "source": [
    "print(gb_df.info())"
   ]
  },
  {
   "cell_type": "code",
   "execution_count": 9,
   "metadata": {
    "collapsed": true
   },
   "outputs": [],
   "source": [
    "gb_df.to_excel('usnm_aves.xlsx', index=False)"
   ]
  },
  {
   "cell_type": "code",
   "execution_count": null,
   "metadata": {
    "collapsed": true
   },
   "outputs": [],
   "source": []
  }
 ],
 "metadata": {
  "anaconda-cloud": {},
  "kernelspec": {
   "display_name": "Python [default]",
   "language": "python",
   "name": "python3"
  },
  "language_info": {
   "codemirror_mode": {
    "name": "ipython",
    "version": 3
   },
   "file_extension": ".py",
   "mimetype": "text/x-python",
   "name": "python",
   "nbconvert_exporter": "python",
   "pygments_lexer": "ipython3",
   "version": "3.5.2"
  }
 },
 "nbformat": 4,
 "nbformat_minor": 2
}
